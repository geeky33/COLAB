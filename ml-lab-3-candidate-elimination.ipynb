{
 "cells": [
  {
   "cell_type": "code",
   "execution_count": 28,
   "id": "bc6a9b98",
   "metadata": {
    "_cell_guid": "b1076dfc-b9ad-4769-8c92-a6c4dae69d19",
    "_uuid": "8f2839f25d086af736a60e9eeb907d3b93b6e0e5",
    "execution": {
     "iopub.execute_input": "2025-08-15T09:45:11.226220Z",
     "iopub.status.busy": "2025-08-15T09:45:11.225794Z",
     "iopub.status.idle": "2025-08-15T09:45:14.803009Z",
     "shell.execute_reply": "2025-08-15T09:45:14.801891Z"
    },
    "papermill": {
     "duration": 3.583975,
     "end_time": "2025-08-15T09:45:14.805248",
     "exception": false,
     "start_time": "2025-08-15T09:45:11.221273",
     "status": "completed"
    },
    "tags": []
   },
   "outputs": [],
   "source": [
    "import numpy as np\n",
    "import pandas as pd\n",
    "import matplotlib.pyplot as plt"
   ]
  },
  {
   "cell_type": "code",
   "execution_count": 29,
   "id": "615a9e14",
   "metadata": {
    "execution": {
     "iopub.execute_input": "2025-08-15T09:45:14.814258Z",
     "iopub.status.busy": "2025-08-15T09:45:14.813533Z",
     "iopub.status.idle": "2025-08-15T09:45:14.864669Z",
     "shell.execute_reply": "2025-08-15T09:45:14.863584Z"
    },
    "papermill": {
     "duration": 0.057611,
     "end_time": "2025-08-15T09:45:14.866681",
     "exception": false,
     "start_time": "2025-08-15T09:45:14.809070",
     "status": "completed"
    },
    "tags": []
   },
   "outputs": [
    {
     "data": {
      "text/html": [
       "<div>\n",
       "<style scoped>\n",
       "    .dataframe tbody tr th:only-of-type {\n",
       "        vertical-align: middle;\n",
       "    }\n",
       "\n",
       "    .dataframe tbody tr th {\n",
       "        vertical-align: top;\n",
       "    }\n",
       "\n",
       "    .dataframe thead th {\n",
       "        text-align: right;\n",
       "    }\n",
       "</style>\n",
       "<table border=\"1\" class=\"dataframe\">\n",
       "  <thead>\n",
       "    <tr style=\"text-align: right;\">\n",
       "      <th></th>\n",
       "      <th>buying</th>\n",
       "      <th>maint</th>\n",
       "      <th>doors</th>\n",
       "      <th>persons</th>\n",
       "      <th>lug_boot</th>\n",
       "      <th>safety</th>\n",
       "      <th>class</th>\n",
       "    </tr>\n",
       "  </thead>\n",
       "  <tbody>\n",
       "    <tr>\n",
       "      <th>0</th>\n",
       "      <td>vhigh</td>\n",
       "      <td>vhigh</td>\n",
       "      <td>2</td>\n",
       "      <td>2</td>\n",
       "      <td>small</td>\n",
       "      <td>med</td>\n",
       "      <td>unacc</td>\n",
       "    </tr>\n",
       "    <tr>\n",
       "      <th>1</th>\n",
       "      <td>vhigh</td>\n",
       "      <td>vhigh</td>\n",
       "      <td>2</td>\n",
       "      <td>2</td>\n",
       "      <td>small</td>\n",
       "      <td>high</td>\n",
       "      <td>unacc</td>\n",
       "    </tr>\n",
       "    <tr>\n",
       "      <th>2</th>\n",
       "      <td>vhigh</td>\n",
       "      <td>vhigh</td>\n",
       "      <td>2</td>\n",
       "      <td>2</td>\n",
       "      <td>med</td>\n",
       "      <td>low</td>\n",
       "      <td>unacc</td>\n",
       "    </tr>\n",
       "    <tr>\n",
       "      <th>3</th>\n",
       "      <td>vhigh</td>\n",
       "      <td>vhigh</td>\n",
       "      <td>2</td>\n",
       "      <td>2</td>\n",
       "      <td>med</td>\n",
       "      <td>med</td>\n",
       "      <td>unacc</td>\n",
       "    </tr>\n",
       "    <tr>\n",
       "      <th>4</th>\n",
       "      <td>vhigh</td>\n",
       "      <td>vhigh</td>\n",
       "      <td>2</td>\n",
       "      <td>2</td>\n",
       "      <td>med</td>\n",
       "      <td>high</td>\n",
       "      <td>unacc</td>\n",
       "    </tr>\n",
       "  </tbody>\n",
       "</table>\n",
       "</div>"
      ],
      "text/plain": [
       "  buying  maint doors persons lug_boot safety  class\n",
       "0  vhigh  vhigh     2       2    small    med  unacc\n",
       "1  vhigh  vhigh     2       2    small   high  unacc\n",
       "2  vhigh  vhigh     2       2      med    low  unacc\n",
       "3  vhigh  vhigh     2       2      med    med  unacc\n",
       "4  vhigh  vhigh     2       2      med   high  unacc"
      ]
     },
     "execution_count": 29,
     "metadata": {},
     "output_type": "execute_result"
    }
   ],
   "source": [
    "df = pd.read_csv('./car_evaluation.csv')\n",
    "df.columns = ['buying','maint','doors','persons','lug_boot','safety','class']\n",
    "df.head()"
   ]
  },
  {
   "cell_type": "code",
   "execution_count": 30,
   "id": "0a31a871",
   "metadata": {
    "execution": {
     "iopub.execute_input": "2025-08-15T09:45:14.878940Z",
     "iopub.status.busy": "2025-08-15T09:45:14.877865Z",
     "iopub.status.idle": "2025-08-15T09:45:14.901627Z",
     "shell.execute_reply": "2025-08-15T09:45:14.900586Z"
    },
    "papermill": {
     "duration": 0.030364,
     "end_time": "2025-08-15T09:45:14.903009",
     "exception": false,
     "start_time": "2025-08-15T09:45:14.872645",
     "status": "completed"
    },
    "tags": []
   },
   "outputs": [
    {
     "name": "stdout",
     "output_type": "stream",
     "text": [
      "<class 'pandas.core.frame.DataFrame'>\n",
      "RangeIndex: 1727 entries, 0 to 1726\n",
      "Data columns (total 7 columns):\n",
      " #   Column    Non-Null Count  Dtype \n",
      "---  ------    --------------  ----- \n",
      " 0   buying    1727 non-null   object\n",
      " 1   maint     1727 non-null   object\n",
      " 2   doors     1727 non-null   object\n",
      " 3   persons   1727 non-null   object\n",
      " 4   lug_boot  1727 non-null   object\n",
      " 5   safety    1727 non-null   object\n",
      " 6   class     1727 non-null   object\n",
      "dtypes: object(7)\n",
      "memory usage: 94.6+ KB\n"
     ]
    }
   ],
   "source": [
    "df.info()"
   ]
  },
  {
   "cell_type": "code",
   "execution_count": 31,
   "id": "c27e9179",
   "metadata": {
    "execution": {
     "iopub.execute_input": "2025-08-15T09:45:14.910555Z",
     "iopub.status.busy": "2025-08-15T09:45:14.910226Z",
     "iopub.status.idle": "2025-08-15T09:45:14.916154Z",
     "shell.execute_reply": "2025-08-15T09:45:14.915004Z"
    },
    "papermill": {
     "duration": 0.011408,
     "end_time": "2025-08-15T09:45:14.917672",
     "exception": false,
     "start_time": "2025-08-15T09:45:14.906264",
     "status": "completed"
    },
    "tags": []
   },
   "outputs": [
    {
     "name": "stdout",
     "output_type": "stream",
     "text": [
      "buying {'low', 'vhigh', 'med', 'high'}\n",
      "maint {'low', 'vhigh', 'med', 'high'}\n",
      "doors {'2', '3', '4', '5more'}\n",
      "persons {'2', '4', 'more'}\n",
      "lug_boot {'small', 'big', 'med'}\n",
      "safety {'low', 'med', 'high'}\n",
      "class {'vgood', 'acc', 'good', 'unacc'}\n"
     ]
    }
   ],
   "source": [
    "for col in df.columns:\n",
    "    print(col, set(df[col].tolist()))"
   ]
  },
  {
   "cell_type": "code",
   "execution_count": 32,
   "id": "fff0eda0",
   "metadata": {
    "execution": {
     "iopub.execute_input": "2025-08-15T09:45:14.925637Z",
     "iopub.status.busy": "2025-08-15T09:45:14.924604Z",
     "iopub.status.idle": "2025-08-15T09:45:14.930475Z",
     "shell.execute_reply": "2025-08-15T09:45:14.929759Z"
    },
    "papermill": {
     "duration": 0.011033,
     "end_time": "2025-08-15T09:45:14.931804",
     "exception": false,
     "start_time": "2025-08-15T09:45:14.920771",
     "status": "completed"
    },
    "tags": []
   },
   "outputs": [],
   "source": [
    "df['class'] = df['class'].replace(['acc', 'vgood', 'good'], 1)"
   ]
  },
  {
   "cell_type": "code",
   "execution_count": 33,
   "id": "68d0554e",
   "metadata": {
    "execution": {
     "iopub.execute_input": "2025-08-15T09:45:14.939481Z",
     "iopub.status.busy": "2025-08-15T09:45:14.939187Z",
     "iopub.status.idle": "2025-08-15T09:45:14.945981Z",
     "shell.execute_reply": "2025-08-15T09:45:14.945004Z"
    },
    "papermill": {
     "duration": 0.012042,
     "end_time": "2025-08-15T09:45:14.947407",
     "exception": false,
     "start_time": "2025-08-15T09:45:14.935365",
     "status": "completed"
    },
    "tags": []
   },
   "outputs": [
    {
     "name": "stderr",
     "output_type": "stream",
     "text": [
      "C:\\Users\\Ahaan\\AppData\\Local\\Temp\\ipykernel_15256\\598157818.py:1: FutureWarning: Downcasting behavior in `replace` is deprecated and will be removed in a future version. To retain the old behavior, explicitly call `result.infer_objects(copy=False)`. To opt-in to the future behavior, set `pd.set_option('future.no_silent_downcasting', True)`\n",
      "  df['class'] = df['class'].replace('unacc', 0)\n"
     ]
    }
   ],
   "source": [
    "df['class'] = df['class'].replace('unacc', 0)"
   ]
  },
  {
   "cell_type": "code",
   "execution_count": 34,
   "id": "9524f71c",
   "metadata": {
    "execution": {
     "iopub.execute_input": "2025-08-15T09:45:14.954427Z",
     "iopub.status.busy": "2025-08-15T09:45:14.954146Z",
     "iopub.status.idle": "2025-08-15T09:45:14.959863Z",
     "shell.execute_reply": "2025-08-15T09:45:14.958743Z"
    },
    "papermill": {
     "duration": 0.010844,
     "end_time": "2025-08-15T09:45:14.961248",
     "exception": false,
     "start_time": "2025-08-15T09:45:14.950404",
     "status": "completed"
    },
    "tags": []
   },
   "outputs": [
    {
     "name": "stdout",
     "output_type": "stream",
     "text": [
      "buying {'low', 'vhigh', 'med', 'high'}\n",
      "maint {'low', 'vhigh', 'med', 'high'}\n",
      "doors {'2', '3', '4', '5more'}\n",
      "persons {'2', '4', 'more'}\n",
      "lug_boot {'small', 'big', 'med'}\n",
      "safety {'low', 'med', 'high'}\n",
      "class {0, 1}\n"
     ]
    }
   ],
   "source": [
    "for col in df.columns:\n",
    "    print(col, set(df[col].tolist()))"
   ]
  },
  {
   "cell_type": "code",
   "execution_count": 35,
   "id": "20f78da4",
   "metadata": {
    "execution": {
     "iopub.execute_input": "2025-08-15T09:45:14.969129Z",
     "iopub.status.busy": "2025-08-15T09:45:14.968371Z",
     "iopub.status.idle": "2025-08-15T09:45:14.983394Z",
     "shell.execute_reply": "2025-08-15T09:45:14.982607Z"
    },
    "papermill": {
     "duration": 0.020263,
     "end_time": "2025-08-15T09:45:14.984702",
     "exception": false,
     "start_time": "2025-08-15T09:45:14.964439",
     "status": "completed"
    },
    "tags": []
   },
   "outputs": [],
   "source": [
    "def candidate_elimination(df):\n",
    "    features = df.columns[:-1]\n",
    "    target_col = 'class'\n",
    "\n",
    "    def consistent(hypothesis, example_attributes, label):\n",
    "        for i in range(len(hypothesis)):\n",
    "            if hypothesis[i] == 'Ø':\n",
    "                return label == 0\n",
    "            if hypothesis[i] != '?' and hypothesis[i] != example_attributes[i]:\n",
    "                return label == 0\n",
    "        return label == 1\n",
    "\n",
    "    def more_general(h1, h2):\n",
    "        for x, y in zip(h1, h2):\n",
    "            if x != '?' and x != y:\n",
    "                return False\n",
    "        return True\n",
    "\n",
    "    def less_general(h1, h2):\n",
    "        for x, y in zip(h1, h2):\n",
    "            if y == '?':\n",
    "                continue\n",
    "            if x != y:\n",
    "                return False\n",
    "        return True\n",
    "\n",
    "    def minimal_generalizations(s, example):\n",
    "        temp = s[:]\n",
    "        for i in range(len(s)):\n",
    "            if s[i] == 'Ø':\n",
    "                temp[i] = example[i]\n",
    "            elif s[i] != example[i]:\n",
    "                temp[i] = '?'\n",
    "        return [temp]\n",
    "\n",
    "    def minimal_specializations(g, example, feature_values):\n",
    "        specializations = []\n",
    "        for i in range(len(g)):\n",
    "            if g[i] == '?':\n",
    "                # adds any other feature value, except the current feature of the example\n",
    "                for val in feature_values[i]:\n",
    "                    if val != example[i]:\n",
    "                        temp = g[:]\n",
    "                        temp[i] = val\n",
    "                        specializations.append(temp)\n",
    "            elif g[i] != example[i]:\n",
    "                # directly adds null\n",
    "                temp = g[:]\n",
    "                temp[i] = 'Ø'\n",
    "                specializations.append(temp)\n",
    "        return specializations\n",
    "\n",
    "    feature_values = [df[feature].unique().tolist() for feature in features]\n",
    "\n",
    "    S = [['Ø'] * len(features)]\n",
    "    G = [['?'] * len(features)]\n",
    "\n",
    "    for _, row in df.iterrows():\n",
    "        example = row[features].tolist()\n",
    "        label = row[target_col]\n",
    "\n",
    "        if label == 1:\n",
    "            G = [g for g in G if consistent(g, example, 1)]\n",
    "\n",
    "            S_new = []\n",
    "            for s in S:\n",
    "                if consistent(s, example, 1):\n",
    "                    S_new.append(s)\n",
    "                else:\n",
    "                    for h in minimal_generalizations(s, example):\n",
    "                        if consistent(h, example, 1) and any(more_general(g, h) for g in G):\n",
    "                            S_new.append(h)\n",
    "                            break\n",
    "\n",
    "            S_minimal = []\n",
    "            for h in S_new:\n",
    "                remove = False\n",
    "        \n",
    "                if any(h != h2 and more_general(h, h2) for h2 in S_new):\n",
    "                    remove = True \n",
    "\n",
    "                if not remove:\n",
    "                    S_minimal.append(h)\n",
    "                    \n",
    "            S = S_minimal\n",
    "\n",
    "        else:\n",
    "            # Negative example\n",
    "            S = [s for s in S if consistent(s, example, 0)]\n",
    "\n",
    "            G_new = []\n",
    "            for g in G:\n",
    "                if consistent(g, example, 0):\n",
    "                    G_new.append(g)\n",
    "                else:\n",
    "                    for h in minimal_specializations(g, example, feature_values):\n",
    "                        if consistent(h, example, 0) and any(less_general(s, h) for s in S):\n",
    "                            G_new.append(h)\n",
    "\n",
    "            G_maximal = []\n",
    "            for h in G_new:\n",
    "                remove = False\n",
    "                if any(h != h2 and less_general(h2, h) for h2 in G_new):\n",
    "                    remove = True\n",
    "\n",
    "                if not remove:\n",
    "                    G_maximal.append(h)\n",
    " \n",
    "            G = G_maximal\n",
    "\n",
    "    return S, G\n"
   ]
  },
  {
   "cell_type": "code",
   "execution_count": 36,
   "id": "a85a5686",
   "metadata": {
    "execution": {
     "iopub.execute_input": "2025-08-15T09:45:14.992558Z",
     "iopub.status.busy": "2025-08-15T09:45:14.992291Z",
     "iopub.status.idle": "2025-08-15T09:45:14.997813Z",
     "shell.execute_reply": "2025-08-15T09:45:14.996906Z"
    },
    "papermill": {
     "duration": 0.011178,
     "end_time": "2025-08-15T09:45:14.999188",
     "exception": false,
     "start_time": "2025-08-15T09:45:14.988010",
     "status": "completed"
    },
    "tags": []
   },
   "outputs": [
    {
     "data": {
      "text/plain": [
       "1727"
      ]
     },
     "execution_count": 36,
     "metadata": {},
     "output_type": "execute_result"
    }
   ],
   "source": [
    "len(df)"
   ]
  },
  {
   "cell_type": "code",
   "execution_count": 50,
   "id": "33230b5c",
   "metadata": {
    "execution": {
     "iopub.execute_input": "2025-08-15T09:45:15.011879Z",
     "iopub.status.busy": "2025-08-15T09:45:15.010960Z",
     "iopub.status.idle": "2025-08-15T09:45:15.029761Z",
     "shell.execute_reply": "2025-08-15T09:45:15.028601Z"
    },
    "papermill": {
     "duration": 0.027429,
     "end_time": "2025-08-15T09:45:15.031523",
     "exception": false,
     "start_time": "2025-08-15T09:45:15.004094",
     "status": "completed"
    },
    "tags": []
   },
   "outputs": [
    {
     "name": "stdout",
     "output_type": "stream",
     "text": [
      "Most Specific Boundary: [['?', '?', '3', '4', 'big', '?']]\n",
      "Most General Boundary: [['?', '?', '3', '4', 'big', '?']]\n"
     ]
    }
   ],
   "source": [
    "size=20\n",
    "sample_df = df.sample(n=size, random_state=2825)\n",
    "S, G = candidate_elimination(sample_df)\n",
    "print(\"Most Specific Boundary:\", S)\n",
    "print(\"Most General Boundary:\", G)"
   ]
  },
  {
   "cell_type": "code",
   "execution_count": 48,
   "id": "f586be81",
   "metadata": {
    "execution": {
     "iopub.execute_input": "2025-08-15T09:45:15.041736Z",
     "iopub.status.busy": "2025-08-15T09:45:15.041371Z",
     "iopub.status.idle": "2025-08-15T09:45:15.062980Z",
     "shell.execute_reply": "2025-08-15T09:45:15.062098Z"
    },
    "papermill": {
     "duration": 0.027614,
     "end_time": "2025-08-15T09:45:15.064441",
     "exception": false,
     "start_time": "2025-08-15T09:45:15.036827",
     "status": "completed"
    },
    "tags": []
   },
   "outputs": [
    {
     "name": "stdout",
     "output_type": "stream",
     "text": [
      "Most Specific Boundary: [['low', 'med', '4', 'more', 'med', 'high']]\n",
      "Most General Boundary: [['low', '?', '4', 'more', '?', 'high'], ['?', 'med', '4', 'more', '?', 'high'], ['?', '?', '4', 'more', 'med', 'high'], ['low', 'med', '?', 'more', '?', '?'], ['low', '?', '?', 'more', 'med', '?']]\n"
     ]
    }
   ],
   "source": [
    "size = 30\n",
    "sample_df = df.sample(n=size, random_state=582)\n",
    "S, G = candidate_elimination(sample_df)\n",
    "print(\"Most Specific Boundary:\", S)\n",
    "print(\"Most General Boundary:\", G)"
   ]
  },
  {
   "cell_type": "code",
   "execution_count": 39,
   "id": "549c37f9",
   "metadata": {
    "execution": {
     "iopub.execute_input": "2025-08-15T09:45:15.072180Z",
     "iopub.status.busy": "2025-08-15T09:45:15.071835Z",
     "iopub.status.idle": "2025-08-15T09:45:15.090707Z",
     "shell.execute_reply": "2025-08-15T09:45:15.089570Z"
    },
    "papermill": {
     "duration": 0.024461,
     "end_time": "2025-08-15T09:45:15.092261",
     "exception": false,
     "start_time": "2025-08-15T09:45:15.067800",
     "status": "completed"
    },
    "tags": []
   },
   "outputs": [
    {
     "name": "stdout",
     "output_type": "stream",
     "text": [
      "Most Specific Boundary: []\n",
      "Most General Boundary: []\n"
     ]
    }
   ],
   "source": [
    "size = 50\n",
    "sample_df = df.sample(n=size)\n",
    "S, G = candidate_elimination(sample_df)\n",
    "print(\"Most Specific Boundary:\", S)\n",
    "print(\"Most General Boundary:\", G)"
   ]
  }
 ],
 "metadata": {
  "kaggle": {
   "accelerator": "none",
   "dataSources": [
    {
     "datasetId": 2298,
     "sourceId": 3884,
     "sourceType": "datasetVersion"
    }
   ],
   "dockerImageVersionId": 31089,
   "isGpuEnabled": false,
   "isInternetEnabled": true,
   "language": "python",
   "sourceType": "notebook"
  },
  "kernelspec": {
   "display_name": "Python 3",
   "language": "python",
   "name": "python3"
  },
  "language_info": {
   "codemirror_mode": {
    "name": "ipython",
    "version": 3
   },
   "file_extension": ".py",
   "mimetype": "text/x-python",
   "name": "python",
   "nbconvert_exporter": "python",
   "pygments_lexer": "ipython3",
   "version": "3.12.3"
  },
  "papermill": {
   "default_parameters": {},
   "duration": 9.415323,
   "end_time": "2025-08-15T09:45:15.815802",
   "environment_variables": {},
   "exception": null,
   "input_path": "__notebook__.ipynb",
   "output_path": "__notebook__.ipynb",
   "parameters": {},
   "start_time": "2025-08-15T09:45:06.400479",
   "version": "2.6.0"
  }
 },
 "nbformat": 4,
 "nbformat_minor": 5
}
